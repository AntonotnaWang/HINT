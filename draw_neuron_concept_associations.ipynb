{
 "cells": [
  {
   "cell_type": "code",
   "execution_count": null,
   "metadata": {},
   "outputs": [],
   "source": [
    "import numpy as np\n",
    "import pandas as pd\n",
    "import plotly.graph_objects as go"
   ]
  },
  {
   "cell_type": "markdown",
   "metadata": {},
   "source": [
    "### show responsible channels to hierarchical concepts"
   ]
  },
  {
   "cell_type": "markdown",
   "metadata": {},
   "source": [
    "fig 1"
   ]
  },
  {
   "cell_type": "code",
   "execution_count": null,
   "metadata": {},
   "outputs": [],
   "source": [
    "channels_responsible_for_concepts_of_different_levels_direct_classification = \\\n",
    "pd.read_excel(\"output/channels_responsible_for_concepts_of_different_levels_direct_classification.xlsx\",\n",
    "              sheet_name = \"features.30\")"
   ]
  },
  {
   "cell_type": "code",
   "execution_count": null,
   "metadata": {},
   "outputs": [],
   "source": [
    "channels_responsible_for_concepts_of_different_levels_direct_classification"
   ]
  },
  {
   "cell_type": "code",
   "execution_count": null,
   "metadata": {},
   "outputs": [],
   "source": [
    "channels_responsible_for_concepts_of_different_levels_direct_classification = \\\n",
    "channels_responsible_for_concepts_of_different_levels_direct_classification[[\"Channel\",\n",
    "                                                                             \"whole\",\n",
    "                                                                             \"animal\", \"person\", \"plant\",\n",
    "                                                                             \"vertebrate\",\n",
    "                                                                             \"mammal\", \"bird\", \"reptile\", \"car\",\n",
    "                                                                             \"carnivore\", \"canine\"]]"
   ]
  },
  {
   "cell_type": "code",
   "execution_count": null,
   "metadata": {},
   "outputs": [],
   "source": [
    "channels_responsible_for_concepts_of_different_levels_direct_classification = \\\n",
    "channels_responsible_for_concepts_of_different_levels_direct_classification.reset_index(drop=True)\n",
    "channels_responsible_for_concepts_of_different_levels_direct_classification"
   ]
  },
  {
   "cell_type": "code",
   "execution_count": null,
   "metadata": {},
   "outputs": [],
   "source": [
    "num_of_channels_with_largest_shap_vals = 10\n",
    "\n",
    "source_and_target_df = pd.DataFrame(columns= [\"channel\", \"shap\", \"target\"])\n",
    "mapping_name_to_id = {}\n",
    "for idx, column_name in enumerate(channels_responsible_for_concepts_of_different_levels_direct_classification.columns):\n",
    "    source_and_target_df_temp = pd.DataFrame(columns= [\"channel\", \"shap\", \"target\"])\n",
    "    if column_name != \"Channel\":\n",
    "        sort_locs = np.argsort(channels_responsible_for_concepts_of_different_levels_direct_classification[column_name].values)[::-1]\n",
    "        source_and_target_df_temp[\"channel\"] = channels_responsible_for_concepts_of_different_levels_direct_classification.loc[sort_locs[:num_of_channels_with_largest_shap_vals],\"Channel\"]\n",
    "        source_and_target_df_temp[\"shap\"] = channels_responsible_for_concepts_of_different_levels_direct_classification.loc[sort_locs[:num_of_channels_with_largest_shap_vals],column_name]\n",
    "        source_and_target_df_temp[\"target\"] = column_name\n",
    "        source_and_target_df = pd.concat([source_and_target_df, source_and_target_df_temp])\n",
    "        \n",
    "source_and_target_df = source_and_target_df.reset_index(drop=True)\n",
    "\n",
    "for idx, channel in enumerate(np.unique(source_and_target_df[\"channel\"].values)):\n",
    "    mapping_name_to_id[str(channel)] = idx\n",
    "for idx_, column_name in enumerate(channels_responsible_for_concepts_of_different_levels_direct_classification.columns):\n",
    "    if column_name != \"Channel\":\n",
    "        mapping_name_to_id[str(column_name)] = idx+idx_\n",
    "\n",
    "source = []\n",
    "target = []\n",
    "value = []\n",
    "for idx in range(len(source_and_target_df)):\n",
    "    source.append(mapping_name_to_id[str(source_and_target_df.loc[idx, \"channel\"])])\n",
    "    target.append(mapping_name_to_id[str(source_and_target_df.loc[idx, \"target\"])])\n",
    "    value.append(source_and_target_df.loc[idx, \"shap\"])"
   ]
  },
  {
   "cell_type": "code",
   "execution_count": null,
   "metadata": {},
   "outputs": [],
   "source": [
    "# # manage the position\n",
    "count_number_of_channels = 0\n",
    "x_list = []\n",
    "y_list = []\n",
    "concept_gap = 0.06\n",
    "base_gap = (1 - concept_gap*15) / 2\n",
    "for idx, item in enumerate(mapping_name_to_id.keys()):\n",
    "    if item.isnumeric():\n",
    "        x_list.append(0)\n",
    "        count_number_of_channels+=1\n",
    "for idx, item in enumerate(mapping_name_to_id.keys()):\n",
    "    if item.isnumeric():\n",
    "        y_list.append(idx * 1 / count_number_of_channels)\n",
    "    else:\n",
    "        if item == \"whole\":\n",
    "            x_list.append(0.9)\n",
    "            y_list.append(base_gap)\n",
    "        elif item == \"animal\":\n",
    "            x_list.append(0.9)\n",
    "            y_list.append(base_gap+concept_gap*2)\n",
    "        elif item == \"person\":\n",
    "            x_list.append(0.9)\n",
    "            y_list.append(base_gap+concept_gap*3)\n",
    "        elif item == \"plant\":\n",
    "            x_list.append(0.9)\n",
    "            y_list.append(base_gap+concept_gap*4)\n",
    "        elif item == \"vertebrate\":\n",
    "            x_list.append(0.9)\n",
    "            y_list.append(base_gap+concept_gap*6)\n",
    "        elif item == \"mammal\":\n",
    "            x_list.append(0.9)\n",
    "            y_list.append(base_gap+concept_gap*8)\n",
    "        elif item == \"bird\":\n",
    "            x_list.append(0.9)\n",
    "            y_list.append(base_gap+concept_gap*9)\n",
    "        elif item == \"reptile\":\n",
    "            x_list.append(0.9)\n",
    "            y_list.append(base_gap+concept_gap*10)\n",
    "        elif item == \"car\":\n",
    "            x_list.append(0.9)\n",
    "            y_list.append(base_gap+concept_gap*11)\n",
    "        elif item == \"carnivore\":\n",
    "            x_list.append(0.9)\n",
    "            y_list.append(base_gap+concept_gap*13)\n",
    "        elif item == \"canine\":\n",
    "            x_list.append(0.9)\n",
    "            y_list.append(base_gap+concept_gap*15)"
   ]
  },
  {
   "cell_type": "code",
   "execution_count": null,
   "metadata": {},
   "outputs": [],
   "source": [
    "color_list = []\n",
    "for i in range(len(value)):\n",
    "    if source[i] == mapping_name_to_id[\"445\"]:\n",
    "        color_list.append(\"rgba(25, 181, 254, 0.5)\")\n",
    "    elif source[i] == mapping_name_to_id[\"199\"]:\n",
    "        color_list.append(\"rgba(77, 175, 124, 0.5)\")\n",
    "    elif source[i] == mapping_name_to_id[\"322\"]:\n",
    "        color_list.append(\"rgba(214, 69, 65, 0.5)\")\n",
    "    elif source[i] == mapping_name_to_id[\"347\"]:\n",
    "        color_list.append(\"rgba(247, 202, 24, 0.5)\")\n",
    "    else:\n",
    "        color_list.append(\"rgba(128,128,128,0.4)\")"
   ]
  },
  {
   "cell_type": "code",
   "execution_count": null,
   "metadata": {},
   "outputs": [],
   "source": [
    "fig = go.Figure(data=[go.Sankey(\n",
    "    valueformat = \".0f\",\n",
    "    valuesuffix = \"\",\n",
    "    # Define nodes\n",
    "    node = dict(\n",
    "        pad = 15,\n",
    "        thickness = 15,\n",
    "        line = dict(color = \"black\", width = 0.5),\n",
    "        label =  list(mapping_name_to_id.keys()),\n",
    "        x = x_list,\n",
    "        y = y_list,\n",
    "        #color =  \n",
    "    ),\n",
    "    # Add links\n",
    "    link = dict(\n",
    "      source =  source,\n",
    "      target =  target,\n",
    "      value =  value,\n",
    "      #label =  \n",
    "      color = color_list,\n",
    "))])\n",
    "\n",
    "fig.update_layout(title_text=\"\",font_size=10)\n",
    "#fig.update_traces(orientation=\"h\", selector=dict(type='sankey'))\n",
    "# fig.update_traces(node_thickness=20, selector=dict(type='sankey'))\n",
    "fig.update_layout(\n",
    "    autosize=False,\n",
    "    width=300,\n",
    "    height=1000,)\n",
    "# fig.update_traces(node_hoverlabel_align=\"right\", selector=dict(type='sankey'))\n",
    "#fig.update_traces(arrangement=\"freeform\", selector=dict(type='sankey')) # enumerated , one of ( \"snap\" | \"perpendicular\" | \"freeform\" | \"fixed\" )\n",
    "fig.show(\"notebook\")\n",
    "#fig.write_image(\"Result_illustration/show responsible channels to hierarchical concepts.pdf\")"
   ]
  },
  {
   "cell_type": "markdown",
   "metadata": {},
   "source": [
    "fig 2"
   ]
  },
  {
   "cell_type": "code",
   "execution_count": null,
   "metadata": {},
   "outputs": [],
   "source": [
    "channels_responsible_for_concepts_of_different_levels_direct_classification = \\\n",
    "pd.read_excel(\"output/channels_responsible_for_concepts_of_different_levels_direct_classification_v2.xlsx\",\n",
    "              sheet_name = \"features.30\")"
   ]
  },
  {
   "cell_type": "code",
   "execution_count": null,
   "metadata": {},
   "outputs": [],
   "source": [
    "channels_responsible_for_concepts_of_different_levels_direct_classification = \\\n",
    "channels_responsible_for_concepts_of_different_levels_direct_classification[[\"Channel\",\n",
    "                                                                             \"whole\",\n",
    "                                                                             \"animal\", \"person\", \"plant\",\n",
    "                                                                             \"invertebrate\",\"vertebrate\",\n",
    "                                                                             \"mammal\", \"bird\", \"reptile\",\n",
    "                                                                             \"carnivore\", \"primate\", \"aquatic mammal\",\n",
    "                                                                             \"canine\"]]"
   ]
  },
  {
   "cell_type": "code",
   "execution_count": null,
   "metadata": {},
   "outputs": [],
   "source": [
    "channels_responsible_for_concepts_of_different_levels_direct_classification = \\\n",
    "channels_responsible_for_concepts_of_different_levels_direct_classification.reset_index(drop=True)\n",
    "channels_responsible_for_concepts_of_different_levels_direct_classification"
   ]
  },
  {
   "cell_type": "code",
   "execution_count": null,
   "metadata": {},
   "outputs": [],
   "source": [
    "num_of_channels_with_largest_shap_vals = 10\n",
    "\n",
    "source_and_target_df = pd.DataFrame(columns= [\"channel\", \"shap\", \"target\"])\n",
    "mapping_name_to_id = {}\n",
    "for idx, column_name in enumerate(channels_responsible_for_concepts_of_different_levels_direct_classification.columns):\n",
    "    source_and_target_df_temp = pd.DataFrame(columns= [\"channel\", \"shap\", \"target\"])\n",
    "    if column_name != \"Channel\":\n",
    "        sort_locs = np.argsort(channels_responsible_for_concepts_of_different_levels_direct_classification[column_name].values)[::-1]\n",
    "        source_and_target_df_temp[\"channel\"] = channels_responsible_for_concepts_of_different_levels_direct_classification.loc[sort_locs[:num_of_channels_with_largest_shap_vals],\"Channel\"]\n",
    "        source_and_target_df_temp[\"shap\"] = channels_responsible_for_concepts_of_different_levels_direct_classification.loc[sort_locs[:num_of_channels_with_largest_shap_vals],column_name]\n",
    "        source_and_target_df_temp[\"target\"] = column_name\n",
    "        source_and_target_df = pd.concat([source_and_target_df, source_and_target_df_temp])\n",
    "        \n",
    "source_and_target_df = source_and_target_df.reset_index(drop=True)\n",
    "\n",
    "for idx, channel in enumerate(np.unique(source_and_target_df[\"channel\"].values)):\n",
    "    mapping_name_to_id[str(channel)] = idx\n",
    "for idx_, column_name in enumerate(channels_responsible_for_concepts_of_different_levels_direct_classification.columns):\n",
    "    if column_name != \"Channel\":\n",
    "        mapping_name_to_id[str(column_name)] = idx+idx_\n",
    "\n",
    "source = []\n",
    "target = []\n",
    "value = []\n",
    "for idx in range(len(source_and_target_df)):\n",
    "    source.append(mapping_name_to_id[str(source_and_target_df.loc[idx, \"channel\"])])\n",
    "    target.append(mapping_name_to_id[str(source_and_target_df.loc[idx, \"target\"])])\n",
    "    value.append(source_and_target_df.loc[idx, \"shap\"])"
   ]
  },
  {
   "cell_type": "code",
   "execution_count": null,
   "metadata": {},
   "outputs": [],
   "source": [
    "# # manage the position\n",
    "count_number_of_channels = 0\n",
    "x_list = []\n",
    "y_list = []\n",
    "concept_gap = 0.05\n",
    "base_gap = (1 - concept_gap*17) / 2\n",
    "for idx, item in enumerate(mapping_name_to_id.keys()):\n",
    "    if item.isnumeric():\n",
    "        x_list.append(0)\n",
    "        count_number_of_channels+=1\n",
    "for idx, item in enumerate(mapping_name_to_id.keys()):\n",
    "    if item.isnumeric():\n",
    "        y_list.append(idx * 1 / count_number_of_channels)\n",
    "    else:\n",
    "        if item == \"whole\":\n",
    "            x_list.append(0.9)\n",
    "            y_list.append(base_gap)\n",
    "        elif item == \"animal\":\n",
    "            x_list.append(0.9)\n",
    "            y_list.append(base_gap+concept_gap*2)\n",
    "        elif item == \"person\":\n",
    "            x_list.append(0.9)\n",
    "            y_list.append(base_gap+concept_gap*3)\n",
    "        elif item == \"plant\":\n",
    "            x_list.append(0.9)\n",
    "            y_list.append(base_gap+concept_gap*4)\n",
    "        elif item == \"invertebrate\":\n",
    "            x_list.append(0.9)\n",
    "            y_list.append(base_gap+concept_gap*6)\n",
    "        elif item == \"vertebrate\":\n",
    "            x_list.append(0.9)\n",
    "            y_list.append(base_gap+concept_gap*7)\n",
    "        elif item == \"mammal\":\n",
    "            x_list.append(0.9)\n",
    "            y_list.append(base_gap+concept_gap*9)\n",
    "        elif item == \"bird\":\n",
    "            x_list.append(0.9)\n",
    "            y_list.append(base_gap+concept_gap*10)\n",
    "        elif item == \"reptile\":\n",
    "            x_list.append(0.9)\n",
    "            y_list.append(base_gap+concept_gap*11)\n",
    "        elif item == \"carnivore\":\n",
    "            x_list.append(0.9)\n",
    "            y_list.append(base_gap+concept_gap*13)\n",
    "        elif item == \"primate\":\n",
    "            x_list.append(0.9)\n",
    "            y_list.append(base_gap+concept_gap*14)\n",
    "        elif item == \"aquatic mammal\":\n",
    "            x_list.append(0.9)\n",
    "            y_list.append(base_gap+concept_gap*15)\n",
    "        elif item == \"canine\":\n",
    "            x_list.append(0.9)\n",
    "            y_list.append(base_gap+concept_gap*17)"
   ]
  },
  {
   "cell_type": "code",
   "execution_count": null,
   "metadata": {},
   "outputs": [],
   "source": [
    "color_list = []\n",
    "for i in range(len(value)):\n",
    "    if source[i] == mapping_name_to_id[\"445\"]:\n",
    "        color_list.append(\"rgba(25, 181, 254, 0.5)\")\n",
    "    else:\n",
    "        color_list.append(\"rgba(128,128,128,0.4)\")"
   ]
  },
  {
   "cell_type": "code",
   "execution_count": null,
   "metadata": {},
   "outputs": [],
   "source": [
    "fig = go.Figure(data=[go.Sankey(\n",
    "    valueformat = \".0f\",\n",
    "    valuesuffix = \"\",\n",
    "    # Define nodes\n",
    "    node = dict(\n",
    "        pad = 15,\n",
    "        thickness = 15,\n",
    "        line = dict(color = \"black\", width = 0.5),\n",
    "        label =  list(mapping_name_to_id.keys()),\n",
    "        x = x_list,\n",
    "        y = y_list,\n",
    "        #color =  \n",
    "    ),\n",
    "    # Add links\n",
    "    link = dict(\n",
    "      source =  source,\n",
    "      target =  target,\n",
    "      value =  value,\n",
    "      #label =  \n",
    "      color = color_list,\n",
    "))])\n",
    "\n",
    "fig.update_layout(title_text=\"\",font_size=10)\n",
    "#fig.update_traces(orientation=\"h\", selector=dict(type='sankey'))\n",
    "# fig.update_traces(node_thickness=20, selector=dict(type='sankey'))\n",
    "fig.update_layout(\n",
    "    autosize=False,\n",
    "    width=320,\n",
    "    height=1200,)\n",
    "# fig.update_traces(node_hoverlabel_align=\"right\", selector=dict(type='sankey'))\n",
    "#fig.update_traces(arrangement=\"freeform\", selector=dict(type='sankey')) # enumerated , one of ( \"snap\" | \"perpendicular\" | \"freeform\" | \"fixed\" )\n",
    "fig.show(\"notebook\")\n",
    "# fig.write_image(\"Result_illustration/show responsible channels to hierarchical concepts.svg\")"
   ]
  },
  {
   "cell_type": "code",
   "execution_count": null,
   "metadata": {},
   "outputs": [],
   "source": []
  }
 ],
 "metadata": {
  "kernelspec": {
   "display_name": "Python 3 (ipykernel)",
   "language": "python",
   "name": "python3"
  },
  "language_info": {
   "codemirror_mode": {
    "name": "ipython",
    "version": 3
   },
   "file_extension": ".py",
   "mimetype": "text/x-python",
   "name": "python",
   "nbconvert_exporter": "python",
   "pygments_lexer": "ipython3",
   "version": "3.9.13"
  }
 },
 "nbformat": 4,
 "nbformat_minor": 4
}
